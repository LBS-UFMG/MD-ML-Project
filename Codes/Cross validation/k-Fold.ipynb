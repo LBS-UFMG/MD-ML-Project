{
 "cells": [
  {
   "cell_type": "markdown",
   "id": "befe5082",
   "metadata": {},
   "source": [
    "#### 1. Importing libraries"
   ]
  },
  {
   "cell_type": "code",
   "execution_count": 1,
   "id": "896cb072",
   "metadata": {},
   "outputs": [],
   "source": [
    "import os, shutil\n",
    "from os import listdir, mkdir\n",
    "from os.path import isdir, isfile, join"
   ]
  },
  {
   "cell_type": "markdown",
   "id": "11a4f919",
   "metadata": {},
   "source": [
    "#### 2. Definition of global variables"
   ]
  },
  {
   "cell_type": "code",
   "execution_count": 1,
   "id": "1b926126",
   "metadata": {},
   "outputs": [],
   "source": [
    "total_maps = 10002\n",
    "variants = 2\n",
    "\n",
    "# k-fold cross validation\n",
    "k = 5"
   ]
  },
  {
   "cell_type": "code",
   "execution_count": 3,
   "id": "a298e038",
   "metadata": {},
   "outputs": [],
   "source": [
    "# base directory\n",
    "base_dir = \"G:\\Meu Drive\"\n",
    "\n",
    "# positive class directories\n",
    "src_positive = os.path.join(base_dir,\"Dataset\",\"Variantes\",\"Treinamento\",\"positiva\")\n",
    "dest_positive = os.path.join(base_dir,\"Dataset\",\"Variantes\",\"Validador\",\"positiva\")\n",
    "\n",
    "# neutral class directories\n",
    "src_neutral = os.path.join(base_dir,\"Dataset\",\"Variantes\",\"Treinamento\",\"neutra\")\n",
    "dest_neutral = os.path.join(base_dir,\"Dataset\",\"Variantes\",\"Validador\",\"neutra\")"
   ]
  },
  {
   "cell_type": "markdown",
   "id": "5952264a",
   "metadata": {},
   "source": [
    "#### 3. Validation set"
   ]
  },
  {
   "cell_type": "markdown",
   "id": "629075ff",
   "metadata": {},
   "source": [
    "##### 3.1 Positive class"
   ]
  },
  {
   "cell_type": "code",
   "execution_count": 46,
   "id": "3dfb8e21",
   "metadata": {},
   "outputs": [
    {
     "name": "stdout",
     "output_type": "stream",
     "text": [
      "0 : 1000  -  5001 : 6001\n"
     ]
    }
   ],
   "source": [
    "files_positive = os.listdir(src_positive)\n",
    "\n",
    "samples_class = total_maps/variants\n",
    "perc_valid = 1/k\n",
    "\n",
    "end_subset1 = end_subset2 = 0\n",
    "\n",
    "# Set the ranges\n",
    "for i in range(0,5,1):\n",
    "    if i==0:\n",
    "        ini_subset1 = 0\n",
    "        ini_subset2 = int(samples_class)\n",
    "    else:\n",
    "        ini_subset1 = end_subset1 + 1\n",
    "        ini_subset2 = end_subset2 + 1\n",
    "        \n",
    "    fim_subset1 = int((i+1)*perc_valid*samples_class)\n",
    "    fim_subset2 = int(samples_class+(i+1)*perc_valid*samples_class)\n",
    "    \n",
    "    print(ini_subset1,\":\",end_subset1,\" - \",ini_subset2,\":\",end_subset2)\n",
    "    \n",
    "    break\n",
    "\n",
    "validation = files_positive[ini_subset1:end_subset1] + files_positive[ini_subset2:end_subset2]"
   ]
  },
  {
   "cell_type": "code",
   "execution_count": 25,
   "id": "2b823a70",
   "metadata": {},
   "outputs": [],
   "source": [
    "for f in validation:\n",
    "    shutil.move(os.path.join(src_positive,f),os.path.join(dest_positive,f))"
   ]
  },
  {
   "cell_type": "markdown",
   "id": "a36c8a38",
   "metadata": {},
   "source": [
    "##### 3.2 Neutral class"
   ]
  },
  {
   "cell_type": "code",
   "execution_count": 4,
   "id": "4acd1a93",
   "metadata": {},
   "outputs": [
    {
     "name": "stdout",
     "output_type": "stream",
     "text": [
      "0 : 1000  -  5001 : 6001\n"
     ]
    }
   ],
   "source": [
    "files = os.listdir(src_neutral)\n",
    "files_sorted = sorted(files, key=lambda x: int((x.split(\".\")[0]).split(\"_\")[1]))\n",
    "files_neutral = sorted(files_sorted, key=lambda x:x[0])\n",
    "\n",
    "samples_class = total_maps/variants\n",
    "perc_valid = 1/k\n",
    "\n",
    "end_subset1 = end_subset2 = 0\n",
    "\n",
    "# Set the ranges\n",
    "for i in range(0,5,1):\n",
    "    if i==0:\n",
    "        ini_subset1 = 0\n",
    "        ini_subset2 = int(samples_class)\n",
    "    else:\n",
    "        ini_subset1 = end_subset1 + 1\n",
    "        ini_subset2 = end_subset2 + 1\n",
    "        \n",
    "    fim_subset1 = int((i+1)*perc_valid*samples_class)\n",
    "    fim_subset2 = int(samples_class+(i+1)*perc_valid*samples_class)\n",
    "    \n",
    "    print(ini_subset1,\":\",end_subset1,\" - \",ini_subset2,\":\",end_subset2)\n",
    "    \n",
    "    break\n",
    "    \n",
    "validation = files_neutral[ini_subset1:end_subset1] + files_neutral[ini_subset2:end_subset2]"
   ]
  },
  {
   "cell_type": "code",
   "execution_count": 6,
   "id": "1df98bc4",
   "metadata": {},
   "outputs": [],
   "source": [
    "for f in validation:\n",
    "    shutil.move(os.path.join(src_neutral,f),os.path.join(dest_neutral,f))"
   ]
  }
 ],
 "metadata": {
  "kernelspec": {
   "display_name": "Python 3 (ipykernel)",
   "language": "python",
   "name": "python3"
  },
  "language_info": {
   "codemirror_mode": {
    "name": "ipython",
    "version": 3
   },
   "file_extension": ".py",
   "mimetype": "text/x-python",
   "name": "python",
   "nbconvert_exporter": "python",
   "pygments_lexer": "ipython3",
   "version": "3.9.13"
  }
 },
 "nbformat": 4,
 "nbformat_minor": 5
}
