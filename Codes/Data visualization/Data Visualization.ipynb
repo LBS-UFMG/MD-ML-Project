{
 "cells": [
  {
   "cell_type": "code",
   "execution_count": 1,
   "id": "bd1bb216",
   "metadata": {},
   "outputs": [],
   "source": [
    "base_dir = \"./\""
   ]
  },
  {
   "cell_type": "markdown",
   "id": "cbe459a8",
   "metadata": {},
   "source": [
    "#### 1. Importing Libraries"
   ]
  },
  {
   "cell_type": "code",
   "execution_count": 2,
   "id": "fe0781f6",
   "metadata": {},
   "outputs": [],
   "source": [
    "import plotly as plt\n",
    "from plotly import express as px"
   ]
  },
  {
   "cell_type": "code",
   "execution_count": 3,
   "id": "f99d85f0",
   "metadata": {},
   "outputs": [],
   "source": [
    "import numpy as np\n",
    "import pandas as pd"
   ]
  },
  {
   "cell_type": "code",
   "execution_count": 4,
   "id": "67d1f752",
   "metadata": {},
   "outputs": [],
   "source": [
    "import matplotlib.pyplot as plt\n",
    "from matplotlib.font_manager import FontProperties"
   ]
  },
  {
   "cell_type": "code",
   "execution_count": 5,
   "id": "47c7f2da",
   "metadata": {},
   "outputs": [],
   "source": [
    "from PIL import Image"
   ]
  },
  {
   "cell_type": "markdown",
   "id": "4f8d27c8",
   "metadata": {},
   "source": [
    "#### 2. Molecular dynamics trajectories classification"
   ]
  },
  {
   "cell_type": "code",
   "execution_count": 6,
   "id": "4a7daf85",
   "metadata": {},
   "outputs": [],
   "source": [
    "def barplot_affinity_prediction():\n",
    "    \n",
    "    # Sample data for the example\n",
    "    classes = ['$++$', '$--$']\n",
    "    recall_values = [0.81, 0]\n",
    "    false_positive_rate_values = [0, 0.36]\n",
    "    recall_std = [0.12, 0]\n",
    "    fpr_std = [0, 0.15]\n",
    "\n",
    "    # Define Arial font properties\n",
    "    font_properties = FontProperties(family='Arial', size=12)\n",
    "\n",
    "    fig, ax1 = plt.subplots()\n",
    "\n",
    "    # Create the first y-axis (left) for Recall\n",
    "    color = 'tab:orange'\n",
    "    ax1.set_ylabel('Recall', color=color, fontproperties=font_properties)\n",
    "    bars_recall = ax1.bar(classes, recall_values, color=color, yerr=recall_std, capsize=5, width=0.3)\n",
    "    ax1.set_ylim(0, 1)  # Set the y-axis limits for Recall\n",
    "    ax1.tick_params(axis='y', labelcolor=color)\n",
    "\n",
    "    # Create the second y-axis (right) for False Positive Rate\n",
    "    ax2 = ax1.twinx()\n",
    "    color = 'tab:blue'\n",
    "    ax2.set_ylabel('False Positive Rate', color=color, fontproperties=font_properties)\n",
    "    bars_fpr = ax2.bar(classes, false_positive_rate_values, color=color, yerr=fpr_std, capsize=5, width=0.3)\n",
    "    ax2.set_ylim(0, 1)  # Set the y-axis limits for False Positive Rate\n",
    "    ax2.tick_params(axis='y', labelcolor=color)\n",
    "\n",
    "    # Set Arial font for all text annotations\n",
    "    for ax in [ax1, ax2]:\n",
    "        for label in ax.get_xticklabels() + ax.get_yticklabels():\n",
    "            label.set_fontproperties(font_properties)\n",
    "\n",
    "    # Annotate bars with Recall values at the base of the bars\n",
    "    for bar_recall, recall in zip(bars_recall, recall_values):\n",
    "        if recall != 0:\n",
    "            ax1.annotate(f'{recall:.2f}', (bar_recall.get_x() + bar_recall.get_width() / 2, 0), ha='center', va='bottom', color='white', fontproperties=font_properties)\n",
    "\n",
    "    # Annotate bars with FPR values at the base of the bars\n",
    "    for bar_fpr, fpr in zip(bars_fpr, false_positive_rate_values):\n",
    "        if fpr != 0:\n",
    "            ax2.annotate(f'{fpr:.2f}', (bar_fpr.get_x() + bar_fpr.get_width() / 2, 0), ha='center', va='bottom', color='white', fontproperties=font_properties)\n",
    "\n",
    "    plt.show()"
   ]
  },
  {
   "cell_type": "code",
   "execution_count": null,
   "id": "08071741",
   "metadata": {},
   "outputs": [],
   "source": [
    "barplot_affinity_prediction()"
   ]
  },
  {
   "cell_type": "markdown",
   "id": "21147b8d",
   "metadata": {},
   "source": [
    "#### 3. Correlation between model prediction and BFE changes"
   ]
  },
  {
   "cell_type": "code",
   "execution_count": 8,
   "id": "1800238c",
   "metadata": {},
   "outputs": [],
   "source": [
    "def scatter_correlacao():\n",
    "    \n",
    "   # Read the CSV file and handle data conversion\n",
    "    data = pd.read_csv(base_dir + 'data2.csv', delimiter=';')\n",
    "    columns_to_convert = ['BFE', 'BFE_norm', 'Recall']\n",
    "    data[columns_to_convert] = data[columns_to_convert].apply(lambda x: x.str.replace(',', '.').astype(float))\n",
    "\n",
    "    # Create the scatter plot\n",
    "    fig = px.scatter(data, x=\"BFE_norm\", y=\"Recall\", text=\"Mutação\", size_max=80, color=\"Recall\",\n",
    "                     color_continuous_scale=\"Viridis\", labels={'BFE_norm': \"ΔΔG<sub>norm</sub> (kcal/mol)\", 'Recall': \"p\\u0304\"},\n",
    "                     trendline=\"ols\", trendline_color_override=\"lightgrey\", template=\"simple_white\")\n",
    "\n",
    "    # Duplicate the scatter plot and adjust labels\n",
    "    fig2 = px.scatter(data, x=\"BFE_norm\", y=\"Recall\", text=\"Mutação\", size_max=80, color=\"Recall\",\n",
    "                      color_continuous_scale=\"Viridis\", labels={'BFE_norm': \"BFE Changes (kcal/mol)\"},\n",
    "                      trendline=\"ols\", trendline_color_override=\"lightgrey\")\n",
    "\n",
    "    # Add the second plot to the first one\n",
    "    fig.add_trace(fig2.data[0])\n",
    "    \n",
    "    font_color = 'rgb(60, 60, 60)'\n",
    "\n",
    "    # Customize trace properties\n",
    "    fig.update_traces(textposition='top right', marker_size=12, line_width=1, textfont=dict(family=\"Arial\", size=20), textfont_color=font_color)\n",
    "    \n",
    "    # Customize layout\n",
    "    fig.update_layout(\n",
    "        title=dict(y=0.95, x=0.5, xanchor='center', yanchor='top'),\n",
    "        coloraxis_colorbar=dict(\n",
    "            title=\"p\\u0304\",\n",
    "            tickfont=dict(family='Arial', size=22),\n",
    "            title_font_color=font_color\n",
    "        ),\n",
    "        xaxis=dict(range=[-0.05, 1.2]),\n",
    "        xaxis_title_font=dict(family=\"Arial\", size=22),\n",
    "        yaxis_title_font=dict(family=\"Arial\", size=26),\n",
    "    )\n",
    "    \n",
    "    fig.update_xaxes(tickfont_family=\"Arial\", tickfont_size=22, color=font_color)\n",
    "    fig.update_yaxes(tickfont_family=\"Arial\", tickfont_size=22, color=font_color)\n",
    "\n",
    "    # Show the plot\n",
    "    fig.show()"
   ]
  },
  {
   "cell_type": "code",
   "execution_count": null,
   "id": "b3140b39",
   "metadata": {},
   "outputs": [],
   "source": [
    "scatter_correlacao()"
   ]
  },
  {
   "cell_type": "markdown",
   "id": "d103ac92",
   "metadata": {},
   "source": [
    "#### 4.  Projection of the high-intensity pixels of the feature map onto the 3D structure of the RBD"
   ]
  },
  {
   "cell_type": "code",
   "execution_count": 10,
   "id": "c7403a2d",
   "metadata": {},
   "outputs": [],
   "source": [
    "def calculate_vertical_mean(image_path):\n",
    "    \n",
    "    # Load the feature map and convert to grayscale\n",
    "    image = Image.open(image_path)\n",
    "\n",
    "    # Convert the image to a NumPy array\n",
    "    image_array = np.array(image)\n",
    "\n",
    "    return image_array"
   ]
  },
  {
   "cell_type": "code",
   "execution_count": null,
   "id": "779ed587",
   "metadata": {},
   "outputs": [],
   "source": [
    "image_path = base_dir+'p1_c0.jpg'\n",
    "image_array = calculate_vertical_mean(image_path)\n",
    "\n",
    "i = 1\n",
    "j = 0\n",
    "k = 333\n",
    "num_residues = 194\n",
    "\n",
    "for j in range(num_residues):\n",
    "    print(\"Resíduo: \",i, ((np.max(image_array[0:i,j,:], axis=0).astype(float))))\n",
    "    i=i+1\n",
    "    k=k+1"
   ]
  },
  {
   "cell_type": "markdown",
   "id": "6822427e",
   "metadata": {},
   "source": [
    "#### 5. Model reliability estimation"
   ]
  },
  {
   "cell_type": "code",
   "execution_count": 12,
   "id": "a1618503",
   "metadata": {},
   "outputs": [],
   "source": [
    "def estimated_probs():\n",
    "    \n",
    "    data = pd.read_csv(base_dir+'data3.csv', delimiter=',')\n",
    "    \n",
    "    data.sort_values('Probs')\n",
    "    \n",
    "    data_neutral = (data.iloc[0:5000]).query(\"Predictions == 'neutra'\").sort_values('Probs')\n",
    "    \n",
    "    data_positive = (data.iloc[5001:10001]).query(\"Predictions == 'positiva'\").sort_values('Probs')\n",
    "    \n",
    "    data_appended = pd.concat([data_neutral, data_positive], axis=0)\n",
    "    \n",
    "    fig = px.line(data_appended, x=range(len(data_appended)), y=data_appended[\"Probs\"],\n",
    "             labels={'Probs':'<b>Estimated a Posterior Probabilities</b>','x':'<b>MD trajectories frames</b>'})\n",
    "    \n",
    "    fig.update_layout(\n",
    "            title={\n",
    "                'y':0.95,\n",
    "                'x':0.5,\n",
    "                'xanchor': 'center',\n",
    "                'yanchor': 'top'},\n",
    "            xaxis=dict(range=[0,10002]))\n",
    "    \n",
    "    fig.update_xaxes(tickfont_family=\"Arial Black\")\n",
    "    fig.update_yaxes(tickfont_family=\"Arial Black\")\n",
    "\n",
    "    fig.show()"
   ]
  },
  {
   "cell_type": "code",
   "execution_count": null,
   "id": "9e8c955b",
   "metadata": {},
   "outputs": [],
   "source": [
    "estimated_probs()"
   ]
  }
 ],
 "metadata": {
  "kernelspec": {
   "display_name": "Python 3 (ipykernel)",
   "language": "python",
   "name": "python3"
  },
  "language_info": {
   "codemirror_mode": {
    "name": "ipython",
    "version": 3
   },
   "file_extension": ".py",
   "mimetype": "text/x-python",
   "name": "python",
   "nbconvert_exporter": "python",
   "pygments_lexer": "ipython3",
   "version": "3.9.13"
  }
 },
 "nbformat": 4,
 "nbformat_minor": 5
}
