{
  "nbformat": 4,
  "nbformat_minor": 0,
  "metadata": {
    "colab": {
      "provenance": [],
      "machine_shape": "hm",
      "gpuType": "A100"
    },
    "kernelspec": {
      "name": "python3",
      "display_name": "Python 3"
    },
    "language_info": {
      "name": "python"
    },
    "accelerator": "GPU"
  },
  "cells": [
    {
      "cell_type": "markdown",
      "source": [
        "![lbs_dcc_ufmg.png](data:image/png;base64,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)"
      ],
      "metadata": {
        "id": "MiKnA386jrCd"
      }
    },
    {
      "cell_type": "markdown",
      "source": [
        "Federal University of Minas Gerais\n",
        "\n",
        "Department of Computer Science\n",
        "\n",
        "[Bioinformatics and Systems Laboratory](http://bioinfo.dcc.ufmg.br/)\n",
        "\n",
        "Authors: Lucas Moraes and Prof. Dr. Raquel Cardoso de Melo-Minardi"
      ],
      "metadata": {
        "id": "SQfsypBjk7WS"
      }
    },
    {
      "cell_type": "code",
      "source": [
        "'''\n",
        "The provided source code is designed to evaluate model performance through a sequence of operations, including importing\n",
        "weights from trained models, making predictions on unseen test data, and ranking these predictions using a predefined\n",
        "threshold. It calculates several standard performance metrics such as accuracy, precision, recall, and specificity and\n",
        "visualizes the results using a confusion matrix. Furthermore, the code incorporates functions to plot the Receiver Operating\n",
        "Characteristic (ROC) curve, helping to evaluate the discriminative capacity of the model in different threshold configurations.\n",
        "This evaluation is crucial to evaluate the model's effectiveness within the specific problem context and to refine model\n",
        "parameters to improve performance. The reference to the number of instances in various sections of the notebook pertains to\n",
        "the test set, although these values are adaptable for use during validation and parameter tuning. Essentially, the number of\n",
        "instances mentioned here tends to be lower than in other contexts. The code has been used in the academic and research context\n",
        "of the Department of Computer Science at the Federal University of Minas Gerais, specifically in the Bioinformatics and\n",
        "Systems Laboratory.\n",
        "'''"
      ],
      "metadata": {
        "id": "baANyEFDlJEe"
      },
      "execution_count": null,
      "outputs": []
    },
    {
      "cell_type": "markdown",
      "source": [
        "##### 1. **Evaluation**"
      ],
      "metadata": {
        "id": "UfH_av-04fzZ"
      }
    },
    {
      "cell_type": "code",
      "source": [
        "# Standard Python libraries\n",
        "import os\n",
        "import time\n",
        "\n",
        "# Data analysis and numerical operations\n",
        "import numpy as np\n",
        "import pandas as pd\n",
        "\n",
        "# Data visualization libraries\n",
        "import matplotlib.pyplot as plt\n",
        "import seaborn as sns\n",
        "import plotly.express as px\n",
        "\n",
        "# Machine Learning and Neural Network libraries\n",
        "import tensorflow as tf\n",
        "\n",
        "from tensorflow.keras.models import Sequential, Model, load_model, clone_model\n",
        "from tensorflow.keras.layers import (Dense, Activation, Concatenate, BatchNormalization,\n",
        "                                     Dropout, Conv1D, Conv2D, MaxPooling1D, MaxPooling2D, Flatten)\n",
        "from tensorflow.keras.callbacks import LearningRateScheduler, ModelCheckpoint\n",
        "from tensorflow.keras.optimizers import Adam\n",
        "from tensorflow.keras.preprocessing.image import ImageDataGenerator\n",
        "from tensorflow.keras.utils import load_img, img_to_array\n",
        "\n",
        "# Sklearn metrics for model evaluation\n",
        "from sklearn.metrics import auc, confusion_matrix, classification_report"
      ],
      "metadata": {
        "id": "HzeW5OAyqPjU"
      },
      "execution_count": 1,
      "outputs": []
    },
    {
      "cell_type": "markdown",
      "source": [
        "> 1.1 Import the trained model"
      ],
      "metadata": {
        "id": "jEFxNXpUWakf"
      }
    },
    {
      "cell_type": "code",
      "source": [
        "from google.colab import drive\n",
        "drive.mount(\"/content/drive\")"
      ],
      "metadata": {
        "id": "1gePExJLqZZS"
      },
      "execution_count": null,
      "outputs": []
    },
    {
      "cell_type": "code",
      "source": [
        "BASE_DIR = \"/content/drive/My Drive/\""
      ],
      "metadata": {
        "id": "IjT2ael4sVR2"
      },
      "execution_count": 3,
      "outputs": []
    },
    {
      "cell_type": "code",
      "source": [
        "# Load a pre-trained model from '/content/drive/My Drive/Models/'\n",
        "model = load_model(BASE_DIR+'Models/model_wuhan_beta-delta_vgg_13_224_224_1e-03_05_100_64_0.9478.hdf5')\n",
        "\n",
        "# Clone the configuration of the loaded model\n",
        "model = clone_model(model)\n",
        "\n",
        "'''\n",
        "Set the weights of the cloned model to be identical to the original loaded model. This step ensures that\n",
        "the cloned model retains the learned weights and can be used for inference.\n",
        "'''\n",
        "model.set_weights(model.get_weights())"
      ],
      "metadata": {
        "id": "BkNsZGgRqF8x"
      },
      "execution_count": null,
      "outputs": []
    },
    {
      "cell_type": "markdown",
      "source": [
        "> 1.2 Prediction"
      ],
      "metadata": {
        "id": "PgiZMAdJWs3Q"
      }
    },
    {
      "cell_type": "code",
      "source": [
        "# Create an ImageDataGenerator for test data\n",
        "test_datagen = ImageDataGenerator(\n",
        "    rescale=1./255\n",
        ")\n",
        "\n",
        "# Define the path to the test data\n",
        "test_data_path = os.path.join(BASE_DIR, 'Dataset', 'Variants', 'Test')\n",
        "\n",
        "# Generate test data from the directory\n",
        "test_data = test_datagen.flow_from_directory(\n",
        "    directory=test_data_path,  # Specify the directory path\n",
        "    target_size=(224, 224),    # Specify the target size of the images\n",
        "    batch_size=1,              # Set batch size to 1 for test data\n",
        "    class_mode=None,           # No class labels are needed for test data\n",
        "    shuffle=False,             # Do not shuffle the data\n",
        "    seed=42                    # Set a seed for reproducibility\n",
        ")"
      ],
      "metadata": {
        "id": "mwAe_KgFsNgZ"
      },
      "execution_count": null,
      "outputs": []
    },
    {
      "cell_type": "code",
      "source": [
        "# Reset the test data generator state before making predictions\n",
        "test_data.reset()\n",
        "\n",
        "# Make predictions on the test data\n",
        "probabilities = model.predict(test_data, verbose=1)"
      ],
      "metadata": {
        "id": "91fXu7mZWxk1"
      },
      "execution_count": null,
      "outputs": []
    },
    {
      "cell_type": "markdown",
      "source": [
        "> 1.3 Classification"
      ],
      "metadata": {
        "id": "pokc6IjyXjZA"
      }
    },
    {
      "cell_type": "code",
      "source": [
        "# Define true labels for classification: 0 for '--' and 1 for '++'\n",
        "neutral = np.full(35007,0)\n",
        "positive = np.full(35007,1)\n",
        "\n",
        "# Combine neutral and positive labels into a single array\n",
        "true = np.concatenate((neutral, positive))\n",
        "\n",
        "# Set a threshold for binary classification.\n",
        "threshold = 0.5\n",
        "predicted_class = [] # List to store predicted class labels\n",
        "y_pred = []          # List to store predicted binary labels\n",
        "y_probs = []         # List to store predicted probabilities\n",
        "\n",
        "# Classify probabilities into '--' or '++' based on the threshold\n",
        "for p in probabilities:\n",
        "  if p[0]<threshold:\n",
        "    predicted_class.append('--')\n",
        "    y_pred.append(0)\n",
        "  else:\n",
        "    predicted_class.append('++')\n",
        "    y_pred.append(1)\n",
        "  y_probs.append(p[0])\n",
        "\n",
        "y_pred = np.array(y_pred)\n",
        "y_probs = np.array(y_probs)\n",
        "\n",
        "print(classification_report(true, y_pred, labels=[0,1]))"
      ],
      "metadata": {
        "id": "g3z3Ru23Xp2w"
      },
      "execution_count": 23,
      "outputs": []
    },
    {
      "cell_type": "markdown",
      "source": [
        "> 1.4 Receiver Operating Curve"
      ],
      "metadata": {
        "id": "W_y6-spfYf2Q"
      }
    },
    {
      "cell_type": "markdown",
      "source": [
        "> 1.4.1 Confusion matrix"
      ],
      "metadata": {
        "id": "R6xLo8LqZD6s"
      }
    },
    {
      "cell_type": "code",
      "source": [
        "# Define test labels and compute confusion matrix\n",
        "zeros = np.zeros(35007)\n",
        "ones = np.ones(35007)\n",
        "y_test = np.concatenate([zeros, ones])\n",
        "cm = confusion_matrix(y_test, y_pred)\n",
        "\n",
        "cm"
      ],
      "metadata": {
        "id": "fj1oxWCMYwZT"
      },
      "execution_count": null,
      "outputs": []
    },
    {
      "cell_type": "markdown",
      "source": [
        "> 1.4.2 Function definition to obtain the ROC curve"
      ],
      "metadata": {
        "id": "PzEMalgkaMrm"
      }
    },
    {
      "cell_type": "code",
      "source": [
        "# Define function to calculate True Positive Rate (TPR) and False Positive Rate (FPR)\n",
        "def calculate_tpr_fpr(y_real, y_pred):\n",
        "    \"\"\"\n",
        "    Calculate True Positive Rate (TPR) and False Positive Rate (FPR) based on confusion matrix.\n",
        "    \"\"\"\n",
        "    cm = confusion_matrix(y_real, y_pred)\n",
        "    TN, FP, FN, TP = cm.ravel()\n",
        "\n",
        "    tpr = TP / (TP + FN) if (TP + FN) != 0 else 0\n",
        "    fpr = FP / (TN + FP) if (TN + FP) != 0 else 0\n",
        "\n",
        "    return tpr, fpr\n",
        "\n",
        "# Define function to obtain n coordinates for plotting the ROC curve\n",
        "def get_n_roc_coordinates(y_real, y_proba, num_points=500):\n",
        "    \"\"\"\n",
        "    Obtain coordinates for the ROC curve.\n",
        "    \"\"\"\n",
        "    tpr_list, fpr_list = [0], [0]\n",
        "\n",
        "    thresholds = np.linspace(0, 1, num_points, endpoint=False)[1:]  # Excluding 0 to start with the first threshold > 0\n",
        "    for threshold in thresholds:\n",
        "        y_pred = y_proba >= threshold\n",
        "        tpr, fpr = calculate_tpr_fpr(y_real, y_pred)\n",
        "        tpr_list.append(tpr)\n",
        "        fpr_list.append(fpr)\n",
        "\n",
        "    tpr_list.append(1)\n",
        "    fpr_list.append(1)  # Ensure the curve reaches (1,1)\n",
        "\n",
        "    return tpr_list, fpr_list\n",
        "\n",
        "# Plot the ROC curve using the defined functions\n",
        "def plot_roc_curve(tpr, fpr, auc_area, scatter=True):\n",
        "    \"\"\"\n",
        "    Plot the ROC curve and display AUC.\n",
        "    \"\"\"\n",
        "    plt.figure(figsize=(5, 5))\n",
        "\n",
        "    if scatter:\n",
        "        sns.scatterplot(x=fpr, y=tpr)\n",
        "    sns.lineplot(x=fpr, y=tpr, label=f'ROC curve (AUC = {auc_area:.2f})')\n",
        "\n",
        "    plt.plot([0, 1], [0, 1], color='green', linestyle='--')\n",
        "    plt.xlim(-0.05, 1.05)\n",
        "    plt.ylim(-0.05, 1.05)\n",
        "    plt.xlabel(\"False Positive Rate\")\n",
        "    plt.ylabel(\"True Positive Rate\")\n",
        "    plt.title(\"ROC Curve\")\n",
        "    plt.legend(loc=\"lower right\")\n",
        "    plt.show()"
      ],
      "metadata": {
        "id": "igE8PKNxZTE9"
      },
      "execution_count": null,
      "outputs": []
    },
    {
      "cell_type": "markdown",
      "source": [
        "> 1.4.3 Plotting the ROC curve"
      ],
      "metadata": {
        "id": "PYj2oRvTaYKo"
      }
    },
    {
      "cell_type": "code",
      "source": [
        "tpr, fpr = get_n_roc_coordinates(y_test, y_probs)\n",
        "auc_area = auc(np.sort(fpr), np.sort(tpr))  # Calculate AUC\n",
        "plot_roc_curve(tpr, fpr, auc_area)"
      ],
      "metadata": {
        "id": "3-dX_EWqaYvR"
      },
      "execution_count": null,
      "outputs": []
    },
    {
      "cell_type": "markdown",
      "source": [
        "> 1.5 Calculation of performance metrics"
      ],
      "metadata": {
        "id": "QE1lkRuZa30k"
      }
    },
    {
      "cell_type": "code",
      "source": [
        "# Initialize counts for true positives, true negatives, false positives, and false negatives\n",
        "true_positives = 0\n",
        "true_negatives = 0\n",
        "false_positives = 0\n",
        "false_negatives = 0\n",
        "\n",
        "# Convert the list of predicted class labels into a numpy array\n",
        "predicted = np.array(predicted_class)\n",
        "\n",
        "# Calculate the number of true negatives: instances correctly predicted as '--'\n",
        "true_negatives = (predicted[0:35006]==\"--\").sum()\n",
        "\n",
        "# Calculate the number of false positives: '--' instances incorrectly predicted as '++'\n",
        "false_positives = (predicted[0:35006]==\"++\").sum()\n",
        "\n",
        "# Calculate the number of true positives: instances correctly predicted as '++'\n",
        "true_positives = (predicted[35007:70013]==\"++\").sum()\n",
        "\n",
        "# Calculate the number of false negatives: '++' instances incorrectly predicted as '--'\n",
        "false_negatives = (predicted[35007:70013]==\"--\").sum()\n",
        "\n",
        "print(\"True Negatives:\", true_negatives)\n",
        "print(\"False Positives:\", false_positives)\n",
        "print(\"True Positives:\", true_positives)\n",
        "print(\"False Negatives:\", false_negatives)\n",
        "\n",
        "# Calculate the accuracy of the model: proportion of correct predictions among all predictions\n",
        "accuracy = (true_positives+true_negatives)/(true_positives+true_negatives+false_positives+false_negatives)\n",
        "print(\"Accuracy:\", accuracy)\n",
        "\n",
        "# Calculate the error rate: proportion of incorrect predictions among all predictions\n",
        "loss = 1-accuracy\n",
        "print(\"Error:\", loss)\n",
        "\n",
        "# Calculate precision: proportion of correct positive predictions ('++') among all positive predictions\n",
        "precision = true_positives/(true_positives+false_positives)\n",
        "print(\"Precision:\", precision)\n",
        "\n",
        "# Calculate recall (sensitivity): proportion of actual positives that were correctly identified\n",
        "recall = true_positives/(true_positives+false_negatives)\n",
        "print(\"Recall:\", recall)\n",
        "\n",
        "# Calculate specificity: proportion of actual negatives ('--') that were correctly identified\n",
        "specificity = true_negatives/(true_negatives+false_positives)\n",
        "print(\"Specificity:\", specificity)"
      ],
      "metadata": {
        "id": "2NsG4Zwoa-Tk"
      },
      "execution_count": null,
      "outputs": []
    },
    {
      "cell_type": "markdown",
      "source": [
        "> 1.6 Plotting confusion matrix"
      ],
      "metadata": {
        "id": "7vCwA5zFdr3b"
      }
    },
    {
      "cell_type": "code",
      "source": [
        "# Construct the confusion matrix array where:\n",
        "# - First row corresponds to actual positives (TP, FN)\n",
        "# - Second row corresponds to actual negatives (FP, TN)\n",
        "confusion_matrix = np.array([[true_positives, false_negatives],\n",
        "                             [false_positives, true_negatives]])\n",
        "\n",
        "# Initialize a plot with a specific figure size\n",
        "plt.figure(figsize=(8, 6))\n",
        "\n",
        "# Create a heatmap for the confusion matrix using Seaborn. The 'annot' parameter\n",
        "# adds annotations to each cell showing the cell value. The format 'd' is for integer\n",
        "# formatting. The 'cmap' parameter controls the color mapping of the heatmap.\n",
        "sns.heatmap(confusion_matrix, annot=True, fmt=\"d\", cmap='viridis',\n",
        "            xticklabels=['Predicted Positive', 'Predicted Negative'],\n",
        "            yticklabels=['Actual Positive', 'Actual Negative'],\n",
        "            annot_kws={\"weight\": \"bold\", \"size\": 13})  # Enhance text annotations to be bold and size 13 for clarity\n",
        "\n",
        "# Label the y-axis as 'Actual label' to indicate the true class\n",
        "plt.ylabel('Actual label')\n",
        "\n",
        "# Label the x-axis as 'Predicted label' to indicate the predicted class by the model\n",
        "plt.xlabel('Predicted label')\n",
        "\n",
        "# Display the plot\n",
        "plt.show()"
      ],
      "metadata": {
        "id": "Nsy84sDTdsRu"
      },
      "execution_count": null,
      "outputs": []
    },
    {
      "cell_type": "markdown",
      "source": [
        "\n",
        "\n",
        "---\n",
        "\n"
      ],
      "metadata": {
        "id": "VGEU9yCzekJM"
      }
    }
  ]
}