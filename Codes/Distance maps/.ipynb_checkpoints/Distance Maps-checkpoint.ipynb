{
 "cells": [
  {
   "cell_type": "code",
   "execution_count": 10,
   "id": "61216ac6",
   "metadata": {},
   "outputs": [],
   "source": [
    "base_dir = \"../../../\""
   ]
  },
  {
   "cell_type": "code",
   "execution_count": 28,
   "id": "a2ce1177",
   "metadata": {},
   "outputs": [],
   "source": [
    "base_dir = \"G:/Meu Drive/\""
   ]
  },
  {
   "cell_type": "markdown",
   "id": "3625c401",
   "metadata": {},
   "source": [
    "#### 1. Importing libraries"
   ]
  },
  {
   "cell_type": "code",
   "execution_count": 29,
   "id": "89737e78",
   "metadata": {},
   "outputs": [],
   "source": [
    "from os import listdir, mkdir\n",
    "from os.path import isdir, isfile, join"
   ]
  },
  {
   "cell_type": "code",
   "execution_count": 30,
   "id": "4382fc58",
   "metadata": {},
   "outputs": [],
   "source": [
    "import numpy as np\n",
    "import cv2\n",
    "from PIL import Image\n",
    "from matplotlib import pyplot as plt"
   ]
  },
  {
   "cell_type": "code",
   "execution_count": 31,
   "id": "b5bf4921",
   "metadata": {},
   "outputs": [],
   "source": [
    "from sklearn.metrics import pairwise_distances"
   ]
  },
  {
   "cell_type": "markdown",
   "id": "19dc28e0",
   "metadata": {},
   "source": [
    "#### 2. Function definition"
   ]
  },
  {
   "cell_type": "code",
   "execution_count": 32,
   "id": "b73c06f4",
   "metadata": {},
   "outputs": [],
   "source": [
    "def resize_images(base_dir):\n",
    "    \n",
    "    for folder in listdir(base_dir+\"Dataset/Variantes/Q498L/\"):\n",
    "        print(folder)\n",
    "        for file in listdir(base_dir+\"Dataset/Variantes/Q498L/\"+folder):\n",
    "            \n",
    "            image = cv2.imread(base_dir+\"Dataset/Q498L/\"+folder+'/'+file)\n",
    "            converted_image = cv2.cvtColor(image, cv2.COLOR_BGR2RGB)\n",
    "            shape = converted_image.shape\n",
    "            add_x = int((224-shape[0])/2)\n",
    "            add_y = int((224-shape[1])/2)\n",
    "            distance_map = np.zeros((224,224,3),dtype = np.uint8)\n",
    "            for i in range(3):\n",
    "                distance_map[:,:,i] = np.pad(converted_image[:,:,i],((add_x,add_x),(add_y,add_y)),'constant', constant_values = (0))\n",
    "            \n",
    "            plt.imsave(base_dir+'Dataset/Variantes/Q498L/'+folder+'/'+file, distance_map)\n",
    "    return"
   ]
  },
  {
   "cell_type": "code",
   "execution_count": 15,
   "id": "e336bc37",
   "metadata": {},
   "outputs": [],
   "source": [
    "def calculate_distances(coordinates, base_dir, file):\n",
    "    \n",
    "    frame = file.split(\".\")[0]\n",
    "    folder = frame.split(\"_\")[0]\n",
    "    \n",
    "    coordinates = np.array(coordinates)\n",
    "    distance_matrix = pairwise_distances(coordinates)\n",
    "       \n",
    "    if isdir(base_dir+'Dataset/'+folder):\n",
    "        plt.imsave(base_dir+'Dataset/'+folder+'/'+frame+'.png', distance_matrix)\n",
    "    else:\n",
    "        mkdir(base_dir+'Dataset/'+folder)\n",
    "        plt.imsave(base_dir+'Dataset/'+folder+'/'+frame+'.png', distance_matrix)\n",
    "\n",
    "    return"
   ]
  },
  {
   "cell_type": "code",
   "execution_count": 16,
   "id": "06a4d44d",
   "metadata": {},
   "outputs": [],
   "source": [
    "def get_coordinates(base_dir):\n",
    "    \n",
    "    files = [file for file in listdir(base_dir+\"Frames/\") if isfile(join(base_dir+\"Frames/\", file))]\n",
    "    \n",
    "    for file in files:\n",
    "        pdb = open(base_dir+\"Frames/\"+file, \"rt\")\n",
    "        rows = pdb.readlines()\n",
    "        alpha_carbons = list(filter(lambda l: l[13:15]==\"CA\", rows))\n",
    "        pdb.close()\n",
    "        coordinates = list(map(lambda ca: [float(ca[31:38]), float(ca[39:46]), float(ca[47:54])], alpha_carbons))  \n",
    "        calculate_distances(coordinates, base_dir, file)\n",
    "        \n",
    "    return"
   ]
  },
  {
   "cell_type": "code",
   "execution_count": 17,
   "id": "a4985c4d",
   "metadata": {},
   "outputs": [],
   "source": [
    "get_coordinates(base_dir)"
   ]
  },
  {
   "cell_type": "code",
   "execution_count": 33,
   "id": "4349afa9",
   "metadata": {
    "scrolled": true
   },
   "outputs": [
    {
     "ename": "error",
     "evalue": "OpenCV(4.6.0) D:\\a\\opencv-python\\opencv-python\\opencv\\modules\\imgproc\\src\\color.cpp:182: error: (-215:Assertion failed) !_src.empty() in function 'cv::cvtColor'\n",
     "output_type": "error",
     "traceback": [
      "\u001b[1;31m---------------------------------------------------------------------------\u001b[0m",
      "\u001b[1;31merror\u001b[0m                                     Traceback (most recent call last)",
      "\u001b[1;32m~\\AppData\\Local\\Temp\\ipykernel_23460\\3488188671.py\u001b[0m in \u001b[0;36m<module>\u001b[1;34m\u001b[0m\n\u001b[1;32m----> 1\u001b[1;33m \u001b[0mresize_images\u001b[0m\u001b[1;33m(\u001b[0m\u001b[0mbase_dir\u001b[0m\u001b[1;33m)\u001b[0m\u001b[1;33m\u001b[0m\u001b[1;33m\u001b[0m\u001b[0m\n\u001b[0m",
      "\u001b[1;32m~\\AppData\\Local\\Temp\\ipykernel_23460\\3628515449.py\u001b[0m in \u001b[0;36mresize_images\u001b[1;34m(base_dir)\u001b[0m\n\u001b[0;32m      5\u001b[0m \u001b[1;33m\u001b[0m\u001b[0m\n\u001b[0;32m      6\u001b[0m             \u001b[0mimage\u001b[0m \u001b[1;33m=\u001b[0m \u001b[0mcv2\u001b[0m\u001b[1;33m.\u001b[0m\u001b[0mimread\u001b[0m\u001b[1;33m(\u001b[0m\u001b[0mbase_dir\u001b[0m\u001b[1;33m+\u001b[0m\u001b[1;34m\"Dataset/Q498L/\"\u001b[0m\u001b[1;33m+\u001b[0m\u001b[0mfolder\u001b[0m\u001b[1;33m+\u001b[0m\u001b[1;34m'/'\u001b[0m\u001b[1;33m+\u001b[0m\u001b[0mfile\u001b[0m\u001b[1;33m)\u001b[0m\u001b[1;33m\u001b[0m\u001b[1;33m\u001b[0m\u001b[0m\n\u001b[1;32m----> 7\u001b[1;33m             \u001b[0mconverted_image\u001b[0m \u001b[1;33m=\u001b[0m \u001b[0mcv2\u001b[0m\u001b[1;33m.\u001b[0m\u001b[0mcvtColor\u001b[0m\u001b[1;33m(\u001b[0m\u001b[0mimage\u001b[0m\u001b[1;33m,\u001b[0m \u001b[0mcv2\u001b[0m\u001b[1;33m.\u001b[0m\u001b[0mCOLOR_BGR2RGB\u001b[0m\u001b[1;33m)\u001b[0m\u001b[1;33m\u001b[0m\u001b[1;33m\u001b[0m\u001b[0m\n\u001b[0m\u001b[0;32m      8\u001b[0m             \u001b[0mshape\u001b[0m \u001b[1;33m=\u001b[0m \u001b[0mconverted_image\u001b[0m\u001b[1;33m.\u001b[0m\u001b[0mshape\u001b[0m\u001b[1;33m\u001b[0m\u001b[1;33m\u001b[0m\u001b[0m\n\u001b[0;32m      9\u001b[0m             \u001b[0madd_x\u001b[0m \u001b[1;33m=\u001b[0m \u001b[0mint\u001b[0m\u001b[1;33m(\u001b[0m\u001b[1;33m(\u001b[0m\u001b[1;36m224\u001b[0m\u001b[1;33m-\u001b[0m\u001b[0mshape\u001b[0m\u001b[1;33m[\u001b[0m\u001b[1;36m0\u001b[0m\u001b[1;33m]\u001b[0m\u001b[1;33m)\u001b[0m\u001b[1;33m/\u001b[0m\u001b[1;36m2\u001b[0m\u001b[1;33m)\u001b[0m\u001b[1;33m\u001b[0m\u001b[1;33m\u001b[0m\u001b[0m\n",
      "\u001b[1;31merror\u001b[0m: OpenCV(4.6.0) D:\\a\\opencv-python\\opencv-python\\opencv\\modules\\imgproc\\src\\color.cpp:182: error: (-215:Assertion failed) !_src.empty() in function 'cv::cvtColor'\n"
     ]
    }
   ],
   "source": [
    "resize_images(base_dir)"
   ]
  },
  {
   "cell_type": "code",
   "execution_count": null,
   "id": "2c98ac1d",
   "metadata": {},
   "outputs": [],
   "source": []
  }
 ],
 "metadata": {
  "kernelspec": {
   "display_name": "Python 3 (ipykernel)",
   "language": "python",
   "name": "python3"
  },
  "language_info": {
   "codemirror_mode": {
    "name": "ipython",
    "version": 3
   },
   "file_extension": ".py",
   "mimetype": "text/x-python",
   "name": "python",
   "nbconvert_exporter": "python",
   "pygments_lexer": "ipython3",
   "version": "3.9.13"
  }
 },
 "nbformat": 4,
 "nbformat_minor": 5
}
