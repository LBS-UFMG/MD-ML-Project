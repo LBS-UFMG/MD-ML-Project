{
 "cells": [
  {
   "cell_type": "code",
   "execution_count": 28,
   "id": "61216ac6",
   "metadata": {},
   "outputs": [],
   "source": [
    "dir_base = \"../../../\""
   ]
  },
  {
   "cell_type": "markdown",
   "id": "3625c401",
   "metadata": {},
   "source": [
    "#### 1. Importação das bibliotecas"
   ]
  },
  {
   "cell_type": "code",
   "execution_count": 29,
   "id": "89737e78",
   "metadata": {},
   "outputs": [],
   "source": [
    "from os import listdir, mkdir\n",
    "from os.path import isdir, isfile, join"
   ]
  },
  {
   "cell_type": "code",
   "execution_count": 30,
   "id": "4382fc58",
   "metadata": {},
   "outputs": [],
   "source": [
    "import numpy as np\n",
    "import cv2\n",
    "from PIL import Image\n",
    "from matplotlib import pyplot as plt"
   ]
  },
  {
   "cell_type": "code",
   "execution_count": 31,
   "id": "b5bf4921",
   "metadata": {},
   "outputs": [],
   "source": [
    "from sklearn.metrics import pairwise_distances"
   ]
  },
  {
   "cell_type": "markdown",
   "id": "19dc28e0",
   "metadata": {},
   "source": [
    "#### 2. Definição das funções"
   ]
  },
  {
   "cell_type": "code",
   "execution_count": 32,
   "id": "b73c06f4",
   "metadata": {},
   "outputs": [],
   "source": [
    "def redimensiona_imagens(dir_base):\n",
    "    \n",
    "    for pasta in listdir(dir_base+\"Dataset/\"):\n",
    "        for arquivo in listdir(dir_base+\"Dataset/\"+pasta):\n",
    "            \n",
    "            imagem = cv2.imread(dir_base+\"Dataset/\"+pasta+'/'+arquivo)\n",
    "            imagem_convertida = cv2.cvtColor(imagem, cv2.COLOR_BGR2RGB)\n",
    "            shape = imagem_convertida.shape\n",
    "            add_x = int((224-shape[0])/2)\n",
    "            add_y = int((224-shape[1])/2)\n",
    "            mapa_distancias = np.zeros((224,224,3),dtype = np.uint8)\n",
    "            for i in range(3):\n",
    "                mapa_distancias[:,:,i] = np.pad(imagem_convertida[:,:,i],((add_x,add_x),(add_y,add_y)),'constant', constant_values = (0))\n",
    "            \n",
    "            plt.imsave(dir_base+'Dataset/'+pasta+'/'+arquivo, mapa_distancias)\n",
    "   \n",
    "    return"
   ]
  },
  {
   "cell_type": "code",
   "execution_count": 33,
   "id": "e336bc37",
   "metadata": {},
   "outputs": [],
   "source": [
    "def calcula_distancias(coordenadas, dir_base, arquivo):\n",
    "    \n",
    "    frame = arquivo.split(\".\")[0]\n",
    "    pasta = frame.split(\"_\")[0]\n",
    "    \n",
    "    coordenadas = np.array(coordenadas)\n",
    "    matriz_distancias = pairwise_distances(coordenadas)\n",
    "       \n",
    "    if isdir(dir_base+'Dataset/'+pasta):\n",
    "        plt.imsave(dir_base+'Dataset/'+pasta+'/'+frame+'.png', matriz_distancias)\n",
    "    else:\n",
    "        mkdir(dir_base+'Dataset/'+pasta)\n",
    "        plt.imsave(dir_base+'Dataset/'+pasta+'/'+frame+'.png', matriz_distancias)\n",
    "\n",
    "    return"
   ]
  },
  {
   "cell_type": "code",
   "execution_count": 34,
   "id": "06a4d44d",
   "metadata": {},
   "outputs": [],
   "source": [
    "def ler_coordenadas(dir_base):\n",
    "    \n",
    "    arquivos = [arquivo for arquivo in listdir(dir_base+\"Frames/\") if isfile(join(dir_base+\"Frames/\", arquivo))]\n",
    "    \n",
    "    for arquivo in arquivos:\n",
    "        pdb = open(dir_base+\"Frames/\"+arquivo, \"rt\")\n",
    "        linhas = pdb.readlines()\n",
    "        carbonos_alfa = list(filter(lambda l: l[13:15]==\"CA\", linhas))\n",
    "        pdb.close()\n",
    "        coordenadas = list(map(lambda ca: [float(ca[31:38]), float(ca[39:46]), float(ca[47:54])], carbonos_alfa))  \n",
    "        calcula_distancias(coordenadas, dir_base, arquivo)\n",
    "        \n",
    "    return"
   ]
  },
  {
   "cell_type": "code",
   "execution_count": 35,
   "id": "a4985c4d",
   "metadata": {},
   "outputs": [],
   "source": [
    "ler_coordenadas(dir_base)"
   ]
  },
  {
   "cell_type": "code",
   "execution_count": 36,
   "id": "4349afa9",
   "metadata": {
    "scrolled": true
   },
   "outputs": [],
   "source": [
    "redimensiona_imagens(dir_base)"
   ]
  }
 ],
 "metadata": {
  "kernelspec": {
   "display_name": "Python 3 (ipykernel)",
   "language": "python",
   "name": "python3"
  },
  "language_info": {
   "codemirror_mode": {
    "name": "ipython",
    "version": 3
   },
   "file_extension": ".py",
   "mimetype": "text/x-python",
   "name": "python",
   "nbconvert_exporter": "python",
   "pygments_lexer": "ipython3",
   "version": "3.9.13"
  }
 },
 "nbformat": 4,
 "nbformat_minor": 5
}
