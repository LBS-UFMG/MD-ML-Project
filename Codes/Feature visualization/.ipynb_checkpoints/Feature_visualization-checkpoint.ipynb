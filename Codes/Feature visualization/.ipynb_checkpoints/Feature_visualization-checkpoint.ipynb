{
 "cells": [
  {
   "cell_type": "markdown",
   "metadata": {
    "id": "0_DS3dlxSx1N"
   },
   "source": [
    "Federal University of Minas Gerais\n",
    "\n",
    "[Bioinformatics and Systems Laboratory](http://bioinfo.dcc.ufmg.br/)\n",
    "\n",
    "Authors: Lucas Moraes, Prof. Dr. Raquel C. de Melo Minardi\n",
    "\n",
    "Most recent update date: 07/08/2023"
   ]
  },
  {
   "cell_type": "markdown",
   "metadata": {
    "id": "zjxS9zixQtSs"
   },
   "source": [
    "\n",
    "##### 1. **Initial Settings**"
   ]
  },
  {
   "cell_type": "markdown",
   "metadata": {
    "id": "IinGtf4dFecQ"
   },
   "source": [
    "\n",
    "\n",
    "---\n",
    "\n"
   ]
  },
  {
   "cell_type": "markdown",
   "metadata": {
    "id": "SZTOZd-RQgz3"
   },
   "source": [
    "\n",
    "> 1.1 Sync with Google Drive"
   ]
  },
  {
   "cell_type": "code",
   "execution_count": null,
   "metadata": {
    "id": "Ri8I184s7E4M"
   },
   "outputs": [],
   "source": [
    "from google.colab import drive\n",
    "drive.mount(\"/content/drive\")"
   ]
  },
  {
   "cell_type": "markdown",
   "metadata": {
    "id": "pMkVv96JRWXX"
   },
   "source": [
    "\n",
    "> 1.2 Global variables"
   ]
  },
  {
   "cell_type": "code",
   "execution_count": 1,
   "metadata": {
    "id": "nAMwTeGUDTr3"
   },
   "outputs": [],
   "source": [
    "BASE_DIR = \"/content/drive/My Drive/\""
   ]
  },
  {
   "cell_type": "markdown",
   "metadata": {
    "id": "vZj7kpTEFhlq"
   },
   "source": [
    "\n",
    "> 1.3 Importing libraries"
   ]
  },
  {
   "cell_type": "code",
   "execution_count": null,
   "metadata": {},
   "outputs": [],
   "source": [
    "# Module for interfacing with the operating system\n",
    "from os import listdir\n",
    "\n",
    "# Libraries for developing neural networks\n",
    "import tensorflow as tf\n",
    "from tensorflow import keras\n",
    "\n",
    "# Keras modules for developing multi-layer neural networks\n",
    "from keras.models import Sequential\n",
    "from keras.models import Model\n",
    "from keras.models import load_model\n",
    "\n",
    "# Libraries for loading and preprocessing an image dataset\n",
    "from keras.utils import load_img, img_to_array\n",
    "from keras.preprocessing.image import ImageDataGenerator\n",
    "\n",
    "# Libraries for data analysis and matrix operations\n",
    "import numpy as np\n",
    "import pandas as pd\n",
    "\n",
    "# Libraries for data plotting\n",
    "import matplotlib.pyplot as plt\n",
    "import cv2"
   ]
  },
  {
   "cell_type": "markdown",
   "metadata": {
    "id": "1VXKArywwsC_"
   },
   "source": [
    "##### 2. **Feature visualization**"
   ]
  },
  {
   "cell_type": "markdown",
   "metadata": {
    "id": "KRNs4gx3wxWN"
   },
   "source": [
    "\n",
    "\n",
    "---\n",
    "\n"
   ]
  },
  {
   "cell_type": "markdown",
   "metadata": {
    "id": "NIYULgi7Fjx1"
   },
   "source": [
    "> 2.1 Define a new model from a VGG configuration and load the pre-trained model weights"
   ]
  },
  {
   "cell_type": "code",
   "execution_count": null,
   "metadata": {
    "id": "saoLG9e3FipC"
   },
   "outputs": [],
   "source": [
    "model = load_model(BASE_DIR+'Models/wuhan_beta-delta_vgg_13_224_224_1e-03_05_100_20230711.h5')"
   ]
  },
  {
   "cell_type": "code",
   "execution_count": null,
   "metadata": {
    "id": "XZNIOaRUagbI"
   },
   "outputs": [],
   "source": [
    "config = model.get_config()\n",
    "model = Sequential.from_config(config)"
   ]
  },
  {
   "cell_type": "code",
   "execution_count": null,
   "metadata": {
    "id": "wqtEmX6sal4H"
   },
   "outputs": [],
   "source": [
    "model.load_weights(BASE_DIR+\"Models/weights_wuhan_beta-delta_vgg_13_224_224_1e-03_05_100_20230711_20230711.h5\")"
   ]
  },
  {
   "cell_type": "markdown",
   "metadata": {
    "id": "hBPGni3h1ScW"
   },
   "source": [
    "\n",
    "> 2.2 Feature map referring to the centroid of the positive class\n"
   ]
  },
  {
   "cell_type": "code",
   "execution_count": null,
   "metadata": {
    "id": "dDm6I_4q5qE_"
   },
   "outputs": [],
   "source": [
    "for arq in listdir(BASE_DIR+\"Clusters/C0/P1/centroid\"):\n",
    "\n",
    "# Transform image into an ndarray structure\n",
    "  sample = load_img(BASE_DIR+'Clusters/C0/P1/centroid/'+arq,target_size=(224,224))\n",
    "  npsample = np.expand_dims(img_to_array(sample), axis=0)\n",
    "  npsample /= 255.\n",
    "\n",
    "# Extraction of feature maps from the model\n",
    "  activation_model = Model(inputs=model.inputs,outputs=model.layers[0].output)\n",
    "  activations = activation_model(npsample)\n",
    "  plt.imsave(BASE_DIR+'Clusters/C0/P1/feature map/'+arq,activations[0,:,:,33])"
   ]
  },
  {
   "cell_type": "markdown",
   "metadata": {
    "id": "3MG4gBe_XAjm"
   },
   "source": [
    "\n",
    "> 2.3 Feature map referring to the centroid of the neutral class"
   ]
  },
  {
   "cell_type": "code",
   "execution_count": null,
   "metadata": {
    "id": "thfHaYzNXNPy"
   },
   "outputs": [],
   "source": [
    "for arq in listdir(BASE_DIR+'Clusters/C0/Y489F/centroid'):\n",
    "\n",
    "# Transform image into an ndarray structure\n",
    "  sample = load_img(BASE_DIR+'Clusters/C0/Y489F/centroid/'+arq,target_size=(224,224))\n",
    "  npsample = np.expand_dims(img_to_array(sample), axis=0)\n",
    "  npsample /= 255.\n",
    "\n",
    "# Extraction of feature maps from the model\n",
    "  activation_model = Model(inputs=model.inputs,outputs=model.layers[0].output)\n",
    "  activations = activation_model(npsample)\n",
    "  plt.imsave(BASE_DIR+'Clusters/C0/Y489F/feature map/'+arq,activations[0,:,:,33])"
   ]
  },
  {
   "cell_type": "markdown",
   "metadata": {
    "id": "zVngu6Qg379F"
   },
   "source": [
    "\n",
    "\n",
    "---\n",
    "\n"
   ]
  }
 ],
 "metadata": {
  "accelerator": "GPU",
  "colab": {
   "gpuType": "T4",
   "machine_shape": "hm",
   "provenance": []
  },
  "kernelspec": {
   "display_name": "Python 3 (ipykernel)",
   "language": "python",
   "name": "python3"
  },
  "language_info": {
   "codemirror_mode": {
    "name": "ipython",
    "version": 3
   },
   "file_extension": ".py",
   "mimetype": "text/x-python",
   "name": "python",
   "nbconvert_exporter": "python",
   "pygments_lexer": "ipython3",
   "version": "3.9.13"
  }
 },
 "nbformat": 4,
 "nbformat_minor": 1
}
