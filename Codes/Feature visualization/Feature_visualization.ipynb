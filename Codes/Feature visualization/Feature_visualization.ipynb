{
  "nbformat": 4,
  "nbformat_minor": 0,
  "metadata": {
    "colab": {
      "provenance": [],
      "machine_shape": "hm",
      "gpuType": "T4"
    },
    "kernelspec": {
      "name": "python3",
      "display_name": "Python 3"
    },
    "language_info": {
      "name": "python"
    },
    "accelerator": "GPU"
  },
  "cells": [
    {
      "cell_type": "markdown",
      "metadata": {
        "id": "0_DS3dlxSx1N"
      },
      "source": [
        "Federal University of Minas Gerais\n",
        "\n",
        "[Bioinformatics and Systems Laboratory](http://bioinfo.dcc.ufmg.br/)\n",
        "\n",
        "Authors: Lucas Moraes, Prof. Dr. Raquel C. de Melo Minardi\n",
        "\n",
        "Most recent update date: 07/08/2023"
      ]
    },
    {
      "cell_type": "markdown",
      "source": [
        "\n",
        "##### 1. **Initial Settings**"
      ],
      "metadata": {
        "id": "zjxS9zixQtSs"
      }
    },
    {
      "cell_type": "markdown",
      "source": [
        "\n",
        "\n",
        "---\n",
        "\n"
      ],
      "metadata": {
        "id": "IinGtf4dFecQ"
      }
    },
    {
      "cell_type": "markdown",
      "source": [
        "\n",
        "> 1.1 Sync with Google Drive"
      ],
      "metadata": {
        "id": "SZTOZd-RQgz3"
      }
    },
    {
      "cell_type": "code",
      "source": [
        "from google.colab import drive\n",
        "drive.mount(\"/content/drive\")"
      ],
      "metadata": {
        "id": "Ri8I184s7E4M"
      },
      "execution_count": null,
      "outputs": []
    },
    {
      "cell_type": "markdown",
      "source": [
        "\n",
        "> 1.2 Global variables"
      ],
      "metadata": {
        "id": "pMkVv96JRWXX"
      }
    },
    {
      "cell_type": "code",
      "source": [
        "BASE_DIR = \"/content/drive/My Drive/\""
      ],
      "metadata": {
        "id": "nAMwTeGUDTr3"
      },
      "execution_count": null,
      "outputs": []
    },
    {
      "cell_type": "markdown",
      "source": [
        "\n",
        "> 1.3 Importing libraries"
      ],
      "metadata": {
        "id": "vZj7kpTEFhlq"
      }
    },
    {
      "cell_type": "code",
      "source": [
        "# Module for interfacing with the operating system\n",
        "from os import listdir\n",
        "\n",
        "# Libraries for developing neural networks\n",
        "import tensorflow as tf\n",
        "from tensorflow import keras\n",
        "\n",
        "# Keras modules for developing multi-layer neural networks\n",
        "from keras.models import Sequential\n",
        "from keras.models import Model\n",
        "from keras.models import load_model\n",
        "\n",
        "# Libraries for loading and preprocessing an image dataset\n",
        "from keras.utils import load_img, img_to_array\n",
        "from keras.preprocessing.image import ImageDataGenerator\n",
        "\n",
        "# Libraries for data analysis and matrix operations\n",
        "import numpy as np\n",
        "import pandas as pd\n",
        "\n",
        "# Libraries for data plotting\n",
        "import matplotlib.pyplot as plt\n",
        "import cv2"
      ],
      "metadata": {
        "id": "ro2uy5ajFgSw"
      },
      "execution_count": null,
      "outputs": []
    },
    {
      "cell_type": "markdown",
      "source": [
        "##### 2. **Feature visualization**"
      ],
      "metadata": {
        "id": "1VXKArywwsC_"
      }
    },
    {
      "cell_type": "markdown",
      "source": [
        "\n",
        "\n",
        "---\n",
        "\n"
      ],
      "metadata": {
        "id": "KRNs4gx3wxWN"
      }
    },
    {
      "cell_type": "markdown",
      "source": [
        "> 2.1 Define a new model from a VGG configuration and load the pre-trained model weights"
      ],
      "metadata": {
        "id": "NIYULgi7Fjx1"
      }
    },
    {
      "cell_type": "code",
      "source": [
        "model = load_model(BASE_DIR+'Models/wuhan_beta-delta_vgg_13_224_224_1e-03_05_100_20230711.h5')"
      ],
      "metadata": {
        "id": "saoLG9e3FipC"
      },
      "execution_count": null,
      "outputs": []
    },
    {
      "cell_type": "code",
      "source": [
        "config = model.get_config()\n",
        "model = Sequential.from_config(config)"
      ],
      "metadata": {
        "id": "XZNIOaRUagbI"
      },
      "execution_count": null,
      "outputs": []
    },
    {
      "cell_type": "code",
      "source": [
        "model.load_weights(BASE_DIR+\"Models/weights_wuhan_beta-delta_vgg_13_224_224_1e-03_05_100_20230711_20230711.h5\")"
      ],
      "metadata": {
        "id": "wqtEmX6sal4H"
      },
      "execution_count": null,
      "outputs": []
    },
    {
      "cell_type": "markdown",
      "metadata": {
        "id": "hBPGni3h1ScW"
      },
      "source": [
        "\n",
        "> 2.2 Feature map referring to the centroid of the positive class\n"
      ]
    },
    {
      "cell_type": "code",
      "source": [
        "for arq in listdir(BASE_DIR+\"Clusters/C0/P1/centroid\"):\n",
        "\n",
        "# Transform image into an ndarray structure\n",
        "  sample = load_img(BASE_DIR+'Clusters/C0/P1/centroid/'+arq,target_size=(224,224))\n",
        "  npsample = np.expand_dims(img_to_array(sample), axis=0)\n",
        "  npsample /= 255.\n",
        "\n",
        "# Extraction of feature maps from the model\n",
        "  activation_model = Model(inputs=model.inputs,outputs=model.layers[0].output)\n",
        "  activations = activation_model(npsample)\n",
        "  plt.imsave(BASE_DIR+'Clusters/C0/P1/feature map/'+arq,activations[0,:,:,33])"
      ],
      "metadata": {
        "id": "dDm6I_4q5qE_"
      },
      "execution_count": null,
      "outputs": []
    },
    {
      "cell_type": "markdown",
      "source": [
        "\n",
        "> 2.3 Feature map referring to the centroid of the neutral class"
      ],
      "metadata": {
        "id": "3MG4gBe_XAjm"
      }
    },
    {
      "cell_type": "code",
      "source": [
        "for arq in listdir(BASE_DIR+'Clusters/C0/Y489F/centroid'):\n",
        "\n",
        "# Transform image into an ndarray structure\n",
        "  sample = load_img(BASE_DIR+'Clusters/C0/Y489F/centroid/'+arq,target_size=(224,224))\n",
        "  npsample = np.expand_dims(img_to_array(sample), axis=0)\n",
        "  npsample /= 255.\n",
        "\n",
        "# Extraction of feature maps from the model\n",
        "  activation_model = Model(inputs=model.inputs,outputs=model.layers[0].output)\n",
        "  activations = activation_model(npsample)\n",
        "  plt.imsave(BASE_DIR+'Clusters/C0/Y489F/feature map/'+arq,activations[0,:,:,33])"
      ],
      "metadata": {
        "id": "thfHaYzNXNPy"
      },
      "execution_count": null,
      "outputs": []
    },
    {
      "cell_type": "markdown",
      "source": [
        "\n",
        "\n",
        "---\n",
        "\n"
      ],
      "metadata": {
        "id": "zVngu6Qg379F"
      }
    }
  ]
}