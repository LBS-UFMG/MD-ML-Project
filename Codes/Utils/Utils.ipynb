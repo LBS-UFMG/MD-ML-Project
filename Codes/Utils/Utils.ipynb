{
 "cells": [
  {
   "cell_type": "code",
   "execution_count": 20,
   "id": "09f8b736",
   "metadata": {},
   "outputs": [],
   "source": [
    "import shutil"
   ]
  },
  {
   "cell_type": "code",
   "execution_count": 21,
   "id": "f9b8134a",
   "metadata": {},
   "outputs": [],
   "source": [
    "import os"
   ]
  },
  {
   "cell_type": "code",
   "execution_count": 22,
   "id": "39649f08",
   "metadata": {},
   "outputs": [],
   "source": [
    "import pandas as pd"
   ]
  },
  {
   "cell_type": "code",
   "execution_count": 23,
   "id": "d35dec82",
   "metadata": {},
   "outputs": [],
   "source": [
    "def cp_samples():\n",
    "    \n",
    "    # location where the file with the predictions made by the model is located\n",
    "    preds_dir = 'C:/Users/lucas/Documents/UFMG/Lab. de Bioinformática e Sistemas/Mestrado/Resultados/Predições/'\n",
    "    \n",
    "    # location where files should be copied\n",
    "    src_dir = 'G:/Meu Drive/Dataset/Variantes/Cluster_0_P1/'\n",
    "    dest_dir = 'G:/Meu Drive/Clusters/C0/P1/cluster/'\n",
    "    \n",
    "    # stores file contents in a dataframe    \n",
    "    df_pred = pd.read_csv(preds_dir+'Probabilidade Estimada para a Classe Variante.csv', sep=',')\n",
    "      \n",
    "    # stores file contents in a dataframe\n",
    "    df_pos = df_pred[(df_pred['Predictions']=='positiva')]\n",
    "    \n",
    "    # transforms column data into a list\n",
    "    files = df_pos['Filename'].tolist()\n",
    "       \n",
    "    # copies each sample to the destination folder\n",
    "    for file in files:\n",
    "        if os.path.isfile(src_dir+file):\n",
    "            shutil.copy2(src_dir+file,dest_dir)"
   ]
  },
  {
   "cell_type": "code",
   "execution_count": 24,
   "id": "026f97be",
   "metadata": {},
   "outputs": [],
   "source": [
    "cp_samples()"
   ]
  },
  {
   "cell_type": "code",
   "execution_count": null,
   "id": "997fdfe7",
   "metadata": {},
   "outputs": [],
   "source": []
  }
 ],
 "metadata": {
  "kernelspec": {
   "display_name": "Python 3 (ipykernel)",
   "language": "python",
   "name": "python3"
  },
  "language_info": {
   "codemirror_mode": {
    "name": "ipython",
    "version": 3
   },
   "file_extension": ".py",
   "mimetype": "text/x-python",
   "name": "python",
   "nbconvert_exporter": "python",
   "pygments_lexer": "ipython3",
   "version": "3.9.13"
  }
 },
 "nbformat": 4,
 "nbformat_minor": 5
}
